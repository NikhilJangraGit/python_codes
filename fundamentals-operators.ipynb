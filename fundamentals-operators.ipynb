{
 "cells": [
  {
   "cell_type": "markdown",
   "id": "23bcfb4c-458d-423b-a334-806c8366fa37",
   "metadata": {},
   "source": [
    "# Assignment\n"
   ]
  },
  {
   "cell_type": "code",
   "execution_count": 2,
   "id": "ec98d347-b965-4e4a-8b54-8c199bf909e2",
   "metadata": {},
   "outputs": [
    {
     "name": "stdin",
     "output_type": "stream",
     "text": [
      "Enter Radius :  12\n"
     ]
    },
    {
     "name": "stdout",
     "output_type": "stream",
     "text": [
      "Area of circle is =  452.15999999999997\n"
     ]
    }
   ],
   "source": [
    "# Question 1\n",
    "\n",
    "# 1.Write a Python program which accepts the radius of a circle from the user and compute the area.formulae to calculate area of circle:  πr²\n",
    "\n",
    "radius = int(input('Enter Radius : '))\n",
    "pi=3.14\n",
    "print('Area of circle is = ' , pi*radius*radius)"
   ]
  },
  {
   "cell_type": "code",
   "execution_count": 5,
   "id": "83669dbe-152e-49aa-8d7f-bc19047f3009",
   "metadata": {},
   "outputs": [
    {
     "name": "stdout",
     "output_type": "stream",
     "text": [
      "904.3199999999999\n"
     ]
    }
   ],
   "source": [
    "#Question 2\n",
    "#2.Write a Python program to get the volume of a sphere with radius 6.formulae to calculate volume of sphere:  4/3 𝜋 r³\n",
    "\n",
    "r=6\n",
    "pi=3.14\n",
    "vol=(4/3)*pi*r**3\n",
    "print(vol)"
   ]
  },
  {
   "cell_type": "code",
   "execution_count": 14,
   "id": "d84e9f68-780f-4f10-82b9-f4c2744925dc",
   "metadata": {},
   "outputs": [
    {
     "name": "stdin",
     "output_type": "stream",
     "text": [
      "Enter a number 2\n"
     ]
    },
    {
     "name": "stdout",
     "output_type": "stream",
     "text": [
      "Result =  18\n"
     ]
    }
   ],
   "source": [
    "#Question 3\n",
    "#3.Write a Python program to calculate the sum of three equal numbers, and the result is the three times of their sum.\n",
    "n=int(input('Enter a number'))\n",
    "Sum = n + n + n\n",
    "result=Sum*3\n",
    "print('Result = ', result)"
   ]
  },
  {
   "cell_type": "code",
   "execution_count": 17,
   "id": "3fe18438-2d2b-432a-8052-befbbadbd241",
   "metadata": {},
   "outputs": [
    {
     "name": "stdin",
     "output_type": "stream",
     "text": [
      "Enter base of the triangle 20\n",
      "Enter height of the triangle  5\n"
     ]
    },
    {
     "name": "stdout",
     "output_type": "stream",
     "text": [
      "Area =  50.0\n"
     ]
    }
   ],
   "source": [
    "#Question 4\n",
    "#4.Write a Python program that will accept the base and height of a triangle and compute the areaformulae to calculate area of triangle:  1/2 base * height\n",
    "base=int(input('Enter base of the triangle'))\n",
    "h= int(input('Enter height of the triangle '))\n",
    "area = (1/2)*base*h\n",
    "print('Area = ', area)"
   ]
  },
  {
   "cell_type": "code",
   "execution_count": 18,
   "id": "f0c01278-8aa8-4c14-95c7-57e36fd01a8f",
   "metadata": {},
   "outputs": [
    {
     "name": "stdout",
     "output_type": "stream",
     "text": [
      "Output =  49\n"
     ]
    }
   ],
   "source": [
    "#Question 5\n",
    "#5.Write a Python program to solve (x + y) * (x + y) ; Test Data : x = 4, y = 3 ; Expected Output :   49\n",
    "x=4\n",
    "y=3\n",
    "sol=(x+y)**2\n",
    "print('Output = ' , sol)"
   ]
  },
  {
   "cell_type": "code",
   "execution_count": 19,
   "id": "b1f4de05-e16f-43e8-9ab8-5f8e274666b5",
   "metadata": {},
   "outputs": [
    {
     "name": "stdout",
     "output_type": "stream",
     "text": [
      "simple intrest =  2450.0\n"
     ]
    }
   ],
   "source": [
    "#Question 6\n",
    "#6.Write a Python program to compute the simple interest of a specified principal amount, rate of interest, and a number of years.\n",
    "amt = 10000\n",
    "Int = 3.5\n",
    "years = 7\n",
    "SI= amt* Int * years/100\n",
    "print('simple intrest = ' , SI)"
   ]
  },
  {
   "cell_type": "code",
   "execution_count": 26,
   "id": "968d8cc5-4d10-4ebb-876f-54af2acbbe5f",
   "metadata": {},
   "outputs": [
    {
     "name": "stdin",
     "output_type": "stream",
     "text": [
      "Enter any number in string 246.2458\n"
     ]
    },
    {
     "name": "stdout",
     "output_type": "stream",
     "text": [
      "246\n"
     ]
    }
   ],
   "source": [
    "#Question 7\n",
    "#7.Write a Python program to convert (parse) a string to Float or Integer.; Test Data : \"246.2458\" ; Expected Output : 246\n",
    "parse=input('Enter any number in string')\n",
    "n=float(parse)\n",
    "output = int(n)\n",
    "\n",
    "print(output)"
   ]
  },
  {
   "cell_type": "code",
   "execution_count": 33,
   "id": "b9a96bcd-7a16-433e-a209-539369443d37",
   "metadata": {},
   "outputs": [
    {
     "name": "stdin",
     "output_type": "stream",
     "text": [
      "Enter perpendicular  3\n",
      "Enter base  4\n"
     ]
    },
    {
     "name": "stdout",
     "output_type": "stream",
     "text": [
      "5.0\n"
     ]
    }
   ],
   "source": [
    "#Question 8 \n",
    "#8.Write a Python program to calculate the hypotenuse of a right angled triangle. ; Formulae : c2 = a2 + b2,\n",
    "p=int(input('Enter perpendicular '))\n",
    "b=int(input('Enter base '))\n",
    "h= (p**2+b**2)**(1/2)\n",
    "print(h)"
   ]
  },
  {
   "cell_type": "code",
   "execution_count": 34,
   "id": "6e89b43b-b884-48d6-9e8d-b10b2fb25b77",
   "metadata": {},
   "outputs": [
    {
     "name": "stdin",
     "output_type": "stream",
     "text": [
      "Enter value of a  77\n",
      "Enter value of b  1\n"
     ]
    },
    {
     "name": "stdout",
     "output_type": "stream",
     "text": [
      "value of a after swapping =  1\n",
      "value of b after swapping =  77\n"
     ]
    }
   ],
   "source": [
    "#Question 9\n",
    "#9.Write a Python program to swap two variables ; Test Data : a = 77, x= 1\n",
    "a=int(input('Enter value of a '))\n",
    "b=int(input('Enter value of b '))\n",
    "c=b\n",
    "b=a\n",
    "a=c\n",
    "print('value of a after swapping = ' , a )\n",
    "print('value of b after swapping = ' , b)"
   ]
  },
  {
   "cell_type": "code",
   "execution_count": 35,
   "id": "88d0898c-9daf-4b23-9f89-21e0cb5b18f8",
   "metadata": {},
   "outputs": [
    {
     "name": "stdin",
     "output_type": "stream",
     "text": [
      "Enter a number  3\n"
     ]
    },
    {
     "name": "stdout",
     "output_type": "stream",
     "text": [
      "27\n"
     ]
    }
   ],
   "source": [
    "#Question 10\n",
    "#10.Write a Python program to calculate the cube of any number which was taken by input.\n",
    "a=int(input('Enter a number '))\n",
    "a **=3\n",
    "print(a)"
   ]
  }
 ],
 "metadata": {
  "kernelspec": {
   "display_name": "Python 3 (ipykernel)",
   "language": "python",
   "name": "python3"
  },
  "language_info": {
   "codemirror_mode": {
    "name": "ipython",
    "version": 3
   },
   "file_extension": ".py",
   "mimetype": "text/x-python",
   "name": "python",
   "nbconvert_exporter": "python",
   "pygments_lexer": "ipython3",
   "version": "3.12.7"
  }
 },
 "nbformat": 4,
 "nbformat_minor": 5
}
