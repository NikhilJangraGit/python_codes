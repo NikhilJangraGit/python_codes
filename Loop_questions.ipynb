{
 "cells": [
  {
   "cell_type": "markdown",
   "id": "206ec61b-9df6-47b3-83a2-67e33109cc8e",
   "metadata": {},
   "source": [
    "# Loops Question\n"
   ]
  },
  {
   "cell_type": "code",
   "execution_count": 1,
   "id": "90fe8586-e9ca-4bab-a1f0-4746c3285e83",
   "metadata": {},
   "outputs": [
    {
     "name": "stdout",
     "output_type": "stream",
     "text": [
      "2\n",
      "4\n",
      "6\n",
      "8\n",
      "10\n"
     ]
    }
   ],
   "source": [
    "# printing first 10 even numbers...\n",
    "a=1\n",
    "while a<11 :\n",
    "    if a%2==0 :\n",
    "        print(a)\n",
    "    else :\n",
    "        pass\n",
    "    a+=1"
   ]
  },
  {
   "cell_type": "code",
   "execution_count": 1,
   "id": "8bcd86df-18b4-48aa-b6b1-532d0a731653",
   "metadata": {},
   "outputs": [
    {
     "name": "stdout",
     "output_type": "stream",
     "text": [
      "1\n",
      "3\n",
      "5\n",
      "7\n",
      "9\n"
     ]
    }
   ],
   "source": [
    "# printing first 10 odd numbers\n",
    "\n",
    "a=1\n",
    "while a<11 :\n",
    "    if a%2!=0 :\n",
    "        print(a)\n",
    "    a+=1"
   ]
  },
  {
   "cell_type": "code",
   "execution_count": 2,
   "id": "a0304df4-0a64-403c-a197-cc17f4fbd477",
   "metadata": {},
   "outputs": [
    {
     "name": "stdout",
     "output_type": "stream",
     "text": [
      "1\n",
      "2\n",
      "3\n",
      "4\n",
      "5\n",
      "6\n",
      "7\n",
      "8\n",
      "9\n",
      "10\n"
     ]
    }
   ],
   "source": [
    "# printing first 10 natural number\n",
    "a=1\n",
    "while a<11 :\n",
    "    print(a)\n",
    "    a+=1"
   ]
  },
  {
   "cell_type": "code",
   "execution_count": 4,
   "id": "16c82cd7-59db-435e-997c-e3cc095ecf49",
   "metadata": {},
   "outputs": [
    {
     "name": "stdout",
     "output_type": "stream",
     "text": [
      "0\n",
      "1\n",
      "2\n",
      "3\n",
      "4\n",
      "5\n",
      "6\n",
      "7\n",
      "8\n",
      "9\n"
     ]
    }
   ],
   "source": [
    "# printing first 10 whole numbers\n",
    "a=0\n",
    "while a<10:\n",
    "    print(a)\n",
    "    a+=1"
   ]
  },
  {
   "cell_type": "code",
   "execution_count": 3,
   "id": "17a46e80-add8-4ac3-a3c1-ceb0b40a68f8",
   "metadata": {},
   "outputs": [
    {
     "name": "stdout",
     "output_type": "stream",
     "text": [
      "1 ----- 1\n",
      "2 ----- 4\n",
      "3 ----- 9\n",
      "4 ----- 16\n",
      "5 ----- 25\n",
      "6 ----- 36\n",
      "7 ----- 49\n",
      "8 ----- 64\n",
      "9 ----- 81\n",
      "10 ----- 100\n"
     ]
    }
   ],
   "source": [
    "#Write a program to print first 10 integers and their squares using while loop.   \n",
    "a=1\n",
    "while a<11 :\n",
    "    print(a,'-----',a**2)\n",
    "    a+=1"
   ]
  },
  {
   "cell_type": "code",
   "execution_count": 4,
   "id": "cbb23731-37dc-4b3d-a2d5-92398eaecd3c",
   "metadata": {},
   "outputs": [
    {
     "name": "stdout",
     "output_type": "stream",
     "text": [
      "10\n",
      "20\n",
      "30\n",
      "40\n",
      "50\n",
      "60\n",
      "70\n",
      "80\n",
      "90\n",
      "100\n",
      "110\n",
      "120\n",
      "130\n",
      "140\n",
      "150\n",
      "160\n",
      "170\n",
      "180\n",
      "190\n",
      "200\n",
      "210\n",
      "220\n",
      "230\n",
      "240\n",
      "250\n",
      "260\n",
      "270\n",
      "280\n",
      "290\n",
      "300\n"
     ]
    }
   ],
   "source": [
    "# Write for loop statement to print the following series:   10 , 20, 30 ... 300   \n",
    "for i in range(1,31) :\n",
    "    print(i*10)\n"
   ]
  },
  {
   "cell_type": "code",
   "execution_count": 6,
   "id": "90da9f9d-f2ef-4d7d-9312-f9ffb0f713b6",
   "metadata": {},
   "outputs": [
    {
     "name": "stdout",
     "output_type": "stream",
     "text": [
      "105\n",
      "98\n",
      "91\n",
      "84\n",
      "77\n",
      "70\n",
      "63\n",
      "56\n",
      "49\n",
      "42\n",
      "35\n",
      "28\n",
      "21\n",
      "14\n",
      "7\n"
     ]
    }
   ],
   "source": [
    "# Write a while loop statement to print the following series   105 , 98 , 91 ....7\n",
    "a=105\n",
    "while a>=7 :\n",
    "    print(a)\n",
    "    a-=7"
   ]
  },
  {
   "cell_type": "code",
   "execution_count": 14,
   "id": "c8eeffa4-213b-4a37-b170-82162d7a8eee",
   "metadata": {},
   "outputs": [
    {
     "name": "stdin",
     "output_type": "stream",
     "text": [
      "Enter a number (enter 0 to stop):  1\n",
      "Enter a number (enter 0 to stop):  6\n",
      "Enter a number (enter 0 to stop):  6\n",
      "Enter a number (enter 0 to stop):  98\n",
      "Enter a number (enter 0 to stop):  8\n",
      "Enter a number (enter 0 to stop):  0\n"
     ]
    },
    {
     "name": "stdout",
     "output_type": "stream",
     "text": [
      "Sum is: 119\n",
      "Count of numbers entered: 5\n"
     ]
    }
   ],
   "source": [
    "#Write a program to enter the numbers till the user wants and at the end it should display the sum of all the numbers entered.   \n",
    "s = 0\n",
    "c = 0\n",
    "\n",
    "while True:\n",
    "    i = int(input(\"Enter a number (enter 0 to stop): \"))\n",
    "    \n",
    "    if i == 0:\n",
    "        break\n",
    "    s += i\n",
    "    c += 1\n",
    "\n",
    "print(\"Sum is:\", s)\n",
    "print(\"Count of numbers entered:\", c)"
   ]
  },
  {
   "cell_type": "code",
   "execution_count": 15,
   "id": "b8293352-7696-4c7a-92ae-5ebdeb4378e0",
   "metadata": {},
   "outputs": [
    {
     "name": "stdin",
     "output_type": "stream",
     "text": [
      "Enter a number (enter 0 to stop):  10\n",
      "Enter a number (enter 0 to stop):  5\n",
      "Enter a number (enter 0 to stop):  -5\n",
      "Enter a number (enter 0 to stop):  56\n",
      "Enter a number (enter 0 to stop):  -5\n",
      "Enter a number (enter 0 to stop):  68\n",
      "Enter a number (enter 0 to stop):  -556\n",
      "Enter a number (enter 0 to stop):  68\n",
      "Enter a number (enter 0 to stop):  -89\n",
      "Enter a number (enter 0 to stop):  -95\n",
      "Enter a number (enter 0 to stop):  -5\n",
      "Enter a number (enter 0 to stop):  2987\n",
      "Enter a number (enter 0 to stop):  0\n"
     ]
    },
    {
     "name": "stdout",
     "output_type": "stream",
     "text": [
      "Positive sum = 3194\n",
      "Positive count = 6\n",
      "negative sum = -755\n",
      "negative count = 6\n"
     ]
    }
   ],
   "source": [
    "# Write a program to enter the numbers till the user enter ZERO and at the end it should display the count and sum of positive  , negative numbers  entered.   \n",
    "count_negative=0\n",
    "sum_negative=0\n",
    "count_positive=0\n",
    "sum_positive=0\n",
    "while True:\n",
    "    num=int(input(\"Enter a number (enter 0 to stop): \"))\n",
    "    if num==0 :\n",
    "        break\n",
    "    elif num>0 :\n",
    "        count_positive+=1\n",
    "        sum_positive+=num\n",
    "    else :\n",
    "        count_negative+=1\n",
    "        sum_negative+=num\n",
    "print('Positive sum =',sum_positive)\n",
    "print('Positive count =',count_positive)\n",
    "print('negative sum =',sum_negative)\n",
    "print('negative count =',count_negative)\n"
   ]
  },
  {
   "cell_type": "code",
   "execution_count": 2,
   "id": "85efedda-0bed-4389-bd68-04c76ea6bf45",
   "metadata": {},
   "outputs": [
    {
     "name": "stdout",
     "output_type": "stream",
     "text": [
      "104\n",
      "130\n",
      "143\n",
      "169\n",
      "182\n",
      "208\n",
      "221\n",
      "247\n",
      "260\n",
      "286\n",
      "299\n",
      "325\n",
      "338\n",
      "364\n",
      "377\n",
      "403\n",
      "416\n",
      "442\n",
      "455\n",
      "481\n",
      "494\n"
     ]
    }
   ],
   "source": [
    "# Write a program to display all the numbers which are divisible by 13 but not by 3 between 100 and 500.(exclusive both numbers) \n",
    "for i in range(101,500) :\n",
    "        if i%13==0 and i%3!=0 :\n",
    "            print(i)"
   ]
  },
  {
   "cell_type": "code",
   "execution_count": 6,
   "id": "7db5af78-f92a-4454-9827-f269d8adb419",
   "metadata": {},
   "outputs": [
    {
     "name": "stdin",
     "output_type": "stream",
     "text": [
      "Enter a number 65\n",
      "Enter a number 5\n",
      "Enter a number 2\n",
      "Enter a number 1\n",
      "Enter a number 9\n",
      "Enter a number 9946\n",
      "Enter a number 222\n",
      "Enter a number 365\n",
      "Enter a number 99999\n",
      "Enter a number 1\n"
     ]
    },
    {
     "name": "stdout",
     "output_type": "stream",
     "text": [
      "largest number =  99999\n",
      "smallest number =  0\n"
     ]
    }
   ],
   "source": [
    "#Write a program to accept 10 numbers from the user and display the largest & smallest number number\n",
    "n=0\n",
    "l=0\n",
    "s=0\n",
    "while n<10 :\n",
    "    n+=1\n",
    "    x=int(input('Enter a number'))\n",
    "    if x>l:\n",
    "        l=x\n",
    "    elif x<s :\n",
    "        s=x\n",
    "    else : \n",
    "        continue\n",
    "\n",
    "print('largest number = ' , l)\n",
    "print('smallest number = ' , s)"
   ]
  },
  {
   "cell_type": "code",
   "execution_count": 8,
   "id": "4187ccf5-89a1-4b63-8f2f-816f39dd896e",
   "metadata": {},
   "outputs": [
    {
     "name": "stdin",
     "output_type": "stream",
     "text": [
      "Enter a number  5\n"
     ]
    },
    {
     "name": "stdout",
     "output_type": "stream",
     "text": [
      "1\n",
      "4\n",
      "9\n",
      "16\n",
      "25\n"
     ]
    }
   ],
   "source": [
    "# Write a program to print the following series till n terms.   1 ,4, 9, 16 , 25 ......n terms.  \n",
    "n=int(input('Enter a number '))\n",
    "i=0\n",
    "x=0\n",
    "while i<n:\n",
    "    x=x+2*i+1\n",
    "    i+=1\n",
    "    print(x)"
   ]
  },
  {
   "cell_type": "code",
   "execution_count": 17,
   "id": "d59f27d0-907b-4e32-9735-b1fb808db140",
   "metadata": {},
   "outputs": [
    {
     "name": "stdin",
     "output_type": "stream",
     "text": [
      "enter a number 9875234\n"
     ]
    },
    {
     "name": "stdout",
     "output_type": "stream",
     "text": [
      "nine\n",
      "eight\n",
      "seven\n",
      "five\n",
      "two\n",
      "three\n",
      "four\n"
     ]
    }
   ],
   "source": [
    "l=['zero','one' , 'two' , 'three' , 'four' , 'five' , 'six' , 'seven' , 'eight' , 'nine']\n",
    "n=int(input('enter a number'))\n",
    "x=0\n",
    "a=str(n)\n",
    "b=a[::-1]\n",
    "n=int(b)\n",
    "while n>0 :\n",
    "    x=n%10\n",
    "    n//=10\n",
    "    print(l[x])"
   ]
  },
  {
   "cell_type": "code",
   "execution_count": 22,
   "id": "84c889e4-c1e4-4578-b586-c50a0aca3b76",
   "metadata": {},
   "outputs": [
    {
     "name": "stdin",
     "output_type": "stream",
     "text": [
      "enter a number 64\n"
     ]
    },
    {
     "name": "stdout",
     "output_type": "stream",
     "text": [
      "six\n",
      "four\n"
     ]
    }
   ],
   "source": [
    "d={\n",
    "    '0':'zero',\n",
    "    '1':'one',\n",
    "    '2':'two',\n",
    "    '3':'three',\n",
    "    '4':'four',\n",
    "    '5':'five',\n",
    "    '6':'six',\n",
    "    '7':'seven',\n",
    "    '8':'eight',\n",
    "    '9':'nine'\n",
    "}\n",
    "n=input('enter a number')\n",
    "for dig in n:\n",
    "        if dig in d :\n",
    "            print(d[dig])\n",
    "\n",
    "        else:\n",
    "            print('invalid input')\n",
    "            "
   ]
  },
  {
   "cell_type": "code",
   "execution_count": 33,
   "id": "e95a1464-fe08-4972-a645-ce04de154762",
   "metadata": {},
   "outputs": [
    {
     "name": "stdin",
     "output_type": "stream",
     "text": [
      "enter a number 49\n"
     ]
    },
    {
     "name": "stdout",
     "output_type": "stream",
     "text": [
      "1 -- 49\n",
      "2 -- 48\n",
      "3 -- 47\n",
      "4 -- 46\n",
      "5 -- 45\n",
      "6 -- 44\n",
      "7 -- 43\n",
      "8 -- 42\n",
      "9 -- 41\n",
      "10 -- 40\n",
      "11 -- 39\n",
      "12 -- 38\n",
      "13 -- 37\n",
      "14 -- 36\n",
      "15 -- 35\n",
      "16 -- 34\n",
      "17 -- 33\n",
      "18 -- 32\n",
      "19 -- 31\n",
      "20 -- 30\n",
      "21 -- 29\n",
      "22 -- 28\n",
      "23 -- 27\n",
      "24 -- 26\n",
      "25 -- 25\n",
      "26 -- 24\n",
      "27 -- 23\n",
      "28 -- 22\n",
      "29 -- 21\n",
      "30 -- 20\n",
      "31 -- 19\n",
      "32 -- 18\n",
      "33 -- 17\n",
      "34 -- 16\n",
      "35 -- 15\n",
      "36 -- 14\n",
      "37 -- 13\n",
      "38 -- 12\n",
      "39 -- 11\n",
      "40 -- 10\n",
      "41 -- 9\n",
      "42 -- 8\n",
      "43 -- 7\n",
      "44 -- 6\n",
      "45 -- 5\n",
      "46 -- 4\n",
      "47 -- 3\n",
      "48 -- 2\n",
      "49 -- 1\n"
     ]
    }
   ],
   "source": [
    "#  Write a python program to get the following output   \n",
    "# 1—–49   \n",
    "   \n",
    "# 2—–48   \n",
    "   \n",
    "# 3—–47   \n",
    "   \n",
    "# . .   \n",
    "   \n",
    "# . .   \n",
    "   \n",
    "# . .   \n",
    "   \n",
    "# 48—–2   \n",
    "   \n",
    "# 49—–1\n",
    "\n",
    "n=int(input('enter a number'))\n",
    "x=n\n",
    "for i in range(1,n+1): \n",
    "    print(i,'--',x)\n",
    "    x-=1\n",
    "        "
   ]
  },
  {
   "cell_type": "code",
   "execution_count": null,
   "id": "6e65c4cf-3ca1-4e6e-9bf7-3b1e9fddb644",
   "metadata": {},
   "outputs": [],
   "source": []
  }
 ],
 "metadata": {
  "kernelspec": {
   "display_name": "Python 3 (ipykernel)",
   "language": "python",
   "name": "python3"
  },
  "language_info": {
   "codemirror_mode": {
    "name": "ipython",
    "version": 3
   },
   "file_extension": ".py",
   "mimetype": "text/x-python",
   "name": "python",
   "nbconvert_exporter": "python",
   "pygments_lexer": "ipython3",
   "version": "3.12.7"
  }
 },
 "nbformat": 4,
 "nbformat_minor": 5
}
